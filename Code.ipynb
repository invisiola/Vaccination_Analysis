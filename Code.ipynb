{
  "nbformat": 4,
  "nbformat_minor": 0,
  "metadata": {
    "colab": {
      "name": "Tugas 3 - Intan Amelia.ipynb",
      "provenance": [],
      "collapsed_sections": []
    },
    "kernelspec": {
      "name": "python3",
      "display_name": "Python 3"
    },
    "language_info": {
      "name": "python"
    }
  },
  "cells": [
    {
      "cell_type": "markdown",
      "metadata": {
        "id": "K3f85y9I8a6k"
      },
      "source": [
        "#  **Tugas 3**\n",
        "\n",
        "Intan Amelia Sari / 2019104596 \n",
        "\n",
        "Vaccination Data (31-08-2021)\n"
      ]
    },
    {
      "cell_type": "markdown",
      "metadata": {
        "id": "BeK61HVF9MeR"
      },
      "source": [
        "## Data Acquisition\n",
        "Melakukan import library yang dibutuhkan untuk proses penelitian ini yang menggunakan bahasa pemograman Python 3."
      ]
    },
    {
      "cell_type": "code",
      "metadata": {
        "id": "IoLxkEk78ZfD"
      },
      "source": [
        "import pandas as pd\n",
        "import numpy as np\n",
        "import matplotlib.pyplot as plt\n",
        "import seaborn as sns\n",
        "\n",
        "sns.set(color_codes=True)"
      ],
      "execution_count": null,
      "outputs": []
    },
    {
      "cell_type": "markdown",
      "metadata": {
        "id": "vCmiXAZb-k1q"
      },
      "source": [
        "## Extract Raw Data from CSV\n",
        "Melakukan ekstrak data dari data csv menjadi sebuah data frame."
      ]
    },
    {
      "cell_type": "code",
      "metadata": {
        "colab": {
          "base_uri": "https://localhost:8080/",
          "height": 504
        },
        "id": "n5C7ngBo-ueU",
        "outputId": "142621f2-cab8-4846-b9d4-e1adc2418caa"
      },
      "source": [
        "dataFrame = pd.read_csv('vaccination-data(31-08-2021).csv', delimiter = \",\");\n",
        "dataFrame.head(5)"
      ],
      "execution_count": null,
      "outputs": [
        {
          "output_type": "execute_result",
          "data": {
            "text/html": [
              "<div>\n",
              "<style scoped>\n",
              "    .dataframe tbody tr th:only-of-type {\n",
              "        vertical-align: middle;\n",
              "    }\n",
              "\n",
              "    .dataframe tbody tr th {\n",
              "        vertical-align: top;\n",
              "    }\n",
              "\n",
              "    .dataframe thead th {\n",
              "        text-align: right;\n",
              "    }\n",
              "</style>\n",
              "<table border=\"1\" class=\"dataframe\">\n",
              "  <thead>\n",
              "    <tr style=\"text-align: right;\">\n",
              "      <th></th>\n",
              "      <th>COUNTRY</th>\n",
              "      <th>ISO3</th>\n",
              "      <th>WHO_REGION</th>\n",
              "      <th>DATA_SOURCE</th>\n",
              "      <th>DATE_UPDATED</th>\n",
              "      <th>TOTAL_VACCINATIONS</th>\n",
              "      <th>PERSONS_VACCINATED_1PLUS_DOSE</th>\n",
              "      <th>TOTAL_VACCINATIONS_PER100</th>\n",
              "      <th>PERSONS_VACCINATED_1PLUS_DOSE_PER100</th>\n",
              "      <th>PERSONS_FULLY_VACCINATED</th>\n",
              "      <th>PERSONS_FULLY_VACCINATED_PER100</th>\n",
              "      <th>VACCINES_USED</th>\n",
              "      <th>FIRST_VACCINE_DATE</th>\n",
              "      <th>NUMBER_VACCINES_TYPES_USED</th>\n",
              "    </tr>\n",
              "  </thead>\n",
              "  <tbody>\n",
              "    <tr>\n",
              "      <th>0</th>\n",
              "      <td>Afghanistan</td>\n",
              "      <td>AFG</td>\n",
              "      <td>EMRO</td>\n",
              "      <td>REPORTING</td>\n",
              "      <td>2021-08-20</td>\n",
              "      <td>1201286.0</td>\n",
              "      <td>770542.0</td>\n",
              "      <td>3.086</td>\n",
              "      <td>1.979</td>\n",
              "      <td>430744.0</td>\n",
              "      <td>1.107</td>\n",
              "      <td>Beijing CNBG - BBIBP-CorV,Janssen - Ad26.COV 2...</td>\n",
              "      <td>2021-02-22</td>\n",
              "      <td>4.0</td>\n",
              "    </tr>\n",
              "    <tr>\n",
              "      <th>1</th>\n",
              "      <td>Albania</td>\n",
              "      <td>ALB</td>\n",
              "      <td>EURO</td>\n",
              "      <td>OWID</td>\n",
              "      <td>2021-08-27</td>\n",
              "      <td>1427977.0</td>\n",
              "      <td>812555.0</td>\n",
              "      <td>49.620</td>\n",
              "      <td>28.235</td>\n",
              "      <td>615422.0</td>\n",
              "      <td>21.385</td>\n",
              "      <td>AstraZeneca - AZD1222, Pfizer BioNTech - Comir...</td>\n",
              "      <td>NaN</td>\n",
              "      <td>4.0</td>\n",
              "    </tr>\n",
              "    <tr>\n",
              "      <th>2</th>\n",
              "      <td>Algeria</td>\n",
              "      <td>DZA</td>\n",
              "      <td>AFRO</td>\n",
              "      <td>REPORTING</td>\n",
              "      <td>2021-08-23</td>\n",
              "      <td>4146091.0</td>\n",
              "      <td>3421279.0</td>\n",
              "      <td>9.455</td>\n",
              "      <td>7.802</td>\n",
              "      <td>724812.0</td>\n",
              "      <td>1.653</td>\n",
              "      <td>Beijing CNBG - BBIBP-CorV,Gamaleya - Sputnik V...</td>\n",
              "      <td>2021-01-30</td>\n",
              "      <td>3.0</td>\n",
              "    </tr>\n",
              "    <tr>\n",
              "      <th>3</th>\n",
              "      <td>American Samoa</td>\n",
              "      <td>ASM</td>\n",
              "      <td>WPRO</td>\n",
              "      <td>REPORTING</td>\n",
              "      <td>2021-08-20</td>\n",
              "      <td>54425.0</td>\n",
              "      <td>29993.0</td>\n",
              "      <td>98.601</td>\n",
              "      <td>54.338</td>\n",
              "      <td>24977.0</td>\n",
              "      <td>45.251</td>\n",
              "      <td>Janssen - Ad26.COV 2.5,Moderna - mRNA-1273,Pfi...</td>\n",
              "      <td>2020-12-21</td>\n",
              "      <td>3.0</td>\n",
              "    </tr>\n",
              "    <tr>\n",
              "      <th>4</th>\n",
              "      <td>Andorra</td>\n",
              "      <td>AND</td>\n",
              "      <td>EURO</td>\n",
              "      <td>OWID</td>\n",
              "      <td>2021-08-15</td>\n",
              "      <td>91660.0</td>\n",
              "      <td>51044.0</td>\n",
              "      <td>118.631</td>\n",
              "      <td>66.064</td>\n",
              "      <td>40616.0</td>\n",
              "      <td>52.567</td>\n",
              "      <td>AstraZeneca - AZD1222, Pfizer BioNTech - Comir...</td>\n",
              "      <td>NaN</td>\n",
              "      <td>2.0</td>\n",
              "    </tr>\n",
              "  </tbody>\n",
              "</table>\n",
              "</div>"
            ],
            "text/plain": [
              "          COUNTRY ISO3  ... FIRST_VACCINE_DATE NUMBER_VACCINES_TYPES_USED\n",
              "0     Afghanistan  AFG  ...         2021-02-22                        4.0\n",
              "1         Albania  ALB  ...                NaN                        4.0\n",
              "2         Algeria  DZA  ...         2021-01-30                        3.0\n",
              "3  American Samoa  ASM  ...         2020-12-21                        3.0\n",
              "4         Andorra  AND  ...                NaN                        2.0\n",
              "\n",
              "[5 rows x 14 columns]"
            ]
          },
          "metadata": {},
          "execution_count": 18
        }
      ]
    },
    {
      "cell_type": "markdown",
      "metadata": {
        "id": "hnCsmMMT_LqE"
      },
      "source": [
        "Melihat tipe data dari setiap fitur."
      ]
    },
    {
      "cell_type": "code",
      "metadata": {
        "id": "5Wt_ibEn_P0f",
        "colab": {
          "base_uri": "https://localhost:8080/"
        },
        "outputId": "5d4b6651-94f7-48e7-b8e5-86704eb4b744"
      },
      "source": [
        "dataFrame.dtypes"
      ],
      "execution_count": null,
      "outputs": [
        {
          "output_type": "execute_result",
          "data": {
            "text/plain": [
              "COUNTRY                                  object\n",
              "ISO3                                     object\n",
              "WHO_REGION                               object\n",
              "DATA_SOURCE                              object\n",
              "DATE_UPDATED                             object\n",
              "TOTAL_VACCINATIONS                      float64\n",
              "PERSONS_VACCINATED_1PLUS_DOSE           float64\n",
              "TOTAL_VACCINATIONS_PER100               float64\n",
              "PERSONS_VACCINATED_1PLUS_DOSE_PER100    float64\n",
              "PERSONS_FULLY_VACCINATED                float64\n",
              "PERSONS_FULLY_VACCINATED_PER100         float64\n",
              "VACCINES_USED                            object\n",
              "FIRST_VACCINE_DATE                       object\n",
              "NUMBER_VACCINES_TYPES_USED              float64\n",
              "dtype: object"
            ]
          },
          "metadata": {},
          "execution_count": 19
        }
      ]
    },
    {
      "cell_type": "markdown",
      "metadata": {
        "id": "4SgyH0_8_S7p"
      },
      "source": [
        "Melihat total baris dan fitur."
      ]
    },
    {
      "cell_type": "code",
      "metadata": {
        "id": "O3A__XiW_Z3V",
        "colab": {
          "base_uri": "https://localhost:8080/"
        },
        "outputId": "780dba9d-1077-45c9-813e-00fa933eeee9"
      },
      "source": [
        "print(\"Total\", dataFrame.shape)\n",
        "print(\"Dari code diatas dapat diartikan bahwa data memiliki total 227 baris dan 14 fitur dari data ini.\")"
      ],
      "execution_count": null,
      "outputs": [
        {
          "output_type": "stream",
          "name": "stdout",
          "text": [
            "Total (227, 14)\n",
            "Dari code diatas dapat diartikan bahwa data memiliki total 227 baris dan 14 fitur dari data ini.\n"
          ]
        }
      ]
    },
    {
      "cell_type": "markdown",
      "metadata": {
        "id": "Iqodz4AX_iiZ"
      },
      "source": [
        "## Five Summary Data Descriptive\n",
        "Menampilkan Five Number Summary dimana di dalamnya terdapat nilai min, Q1 (25%), Median (50%), Q3 (100%), dan nilai max dari data ini."
      ]
    },
    {
      "cell_type": "code",
      "metadata": {
        "id": "Y_dpPnyo_r5X",
        "colab": {
          "base_uri": "https://localhost:8080/",
          "height": 320
        },
        "outputId": "822a6fc8-17d4-4d0f-863e-7a4bbf756e82"
      },
      "source": [
        "dataFrame.describe()"
      ],
      "execution_count": null,
      "outputs": [
        {
          "output_type": "execute_result",
          "data": {
            "text/html": [
              "<div>\n",
              "<style scoped>\n",
              "    .dataframe tbody tr th:only-of-type {\n",
              "        vertical-align: middle;\n",
              "    }\n",
              "\n",
              "    .dataframe tbody tr th {\n",
              "        vertical-align: top;\n",
              "    }\n",
              "\n",
              "    .dataframe thead th {\n",
              "        text-align: right;\n",
              "    }\n",
              "</style>\n",
              "<table border=\"1\" class=\"dataframe\">\n",
              "  <thead>\n",
              "    <tr style=\"text-align: right;\">\n",
              "      <th></th>\n",
              "      <th>TOTAL_VACCINATIONS</th>\n",
              "      <th>PERSONS_VACCINATED_1PLUS_DOSE</th>\n",
              "      <th>TOTAL_VACCINATIONS_PER100</th>\n",
              "      <th>PERSONS_VACCINATED_1PLUS_DOSE_PER100</th>\n",
              "      <th>PERSONS_FULLY_VACCINATED</th>\n",
              "      <th>PERSONS_FULLY_VACCINATED_PER100</th>\n",
              "      <th>NUMBER_VACCINES_TYPES_USED</th>\n",
              "    </tr>\n",
              "  </thead>\n",
              "  <tbody>\n",
              "    <tr>\n",
              "      <th>count</th>\n",
              "      <td>2.260000e+02</td>\n",
              "      <td>2.190000e+02</td>\n",
              "      <td>226.000000</td>\n",
              "      <td>219.000000</td>\n",
              "      <td>2.190000e+02</td>\n",
              "      <td>219.000000</td>\n",
              "      <td>223.000000</td>\n",
              "    </tr>\n",
              "    <tr>\n",
              "      <th>mean</th>\n",
              "      <td>2.221198e+07</td>\n",
              "      <td>8.830280e+06</td>\n",
              "      <td>66.430588</td>\n",
              "      <td>37.265215</td>\n",
              "      <td>5.315785e+06</td>\n",
              "      <td>29.549616</td>\n",
              "      <td>3.233184</td>\n",
              "    </tr>\n",
              "    <tr>\n",
              "      <th>std</th>\n",
              "      <td>1.380741e+08</td>\n",
              "      <td>3.648084e+07</td>\n",
              "      <td>52.135356</td>\n",
              "      <td>27.028802</td>\n",
              "      <td>1.716390e+07</td>\n",
              "      <td>25.318084</td>\n",
              "      <td>1.716211</td>\n",
              "    </tr>\n",
              "    <tr>\n",
              "      <th>min</th>\n",
              "      <td>7.300000e+01</td>\n",
              "      <td>3.700000e+01</td>\n",
              "      <td>0.104000</td>\n",
              "      <td>0.092000</td>\n",
              "      <td>3.600000e+01</td>\n",
              "      <td>0.012000</td>\n",
              "      <td>1.000000</td>\n",
              "    </tr>\n",
              "    <tr>\n",
              "      <th>25%</th>\n",
              "      <td>1.254152e+05</td>\n",
              "      <td>7.451450e+04</td>\n",
              "      <td>16.759750</td>\n",
              "      <td>11.891500</td>\n",
              "      <td>4.555450e+04</td>\n",
              "      <td>5.941500</td>\n",
              "      <td>2.000000</td>\n",
              "    </tr>\n",
              "    <tr>\n",
              "      <th>50%</th>\n",
              "      <td>1.033947e+06</td>\n",
              "      <td>6.435690e+05</td>\n",
              "      <td>57.493000</td>\n",
              "      <td>34.938000</td>\n",
              "      <td>3.680190e+05</td>\n",
              "      <td>24.473000</td>\n",
              "      <td>3.000000</td>\n",
              "    </tr>\n",
              "    <tr>\n",
              "      <th>75%</th>\n",
              "      <td>6.774112e+06</td>\n",
              "      <td>4.205376e+06</td>\n",
              "      <td>113.898250</td>\n",
              "      <td>62.100500</td>\n",
              "      <td>2.893240e+06</td>\n",
              "      <td>53.188000</td>\n",
              "      <td>4.000000</td>\n",
              "    </tr>\n",
              "    <tr>\n",
              "      <th>max</th>\n",
              "      <td>1.943323e+09</td>\n",
              "      <td>4.608028e+08</td>\n",
              "      <td>233.926000</td>\n",
              "      <td>117.527000</td>\n",
              "      <td>1.727310e+08</td>\n",
              "      <td>116.399000</td>\n",
              "      <td>9.000000</td>\n",
              "    </tr>\n",
              "  </tbody>\n",
              "</table>\n",
              "</div>"
            ],
            "text/plain": [
              "       TOTAL_VACCINATIONS  ...  NUMBER_VACCINES_TYPES_USED\n",
              "count        2.260000e+02  ...                  223.000000\n",
              "mean         2.221198e+07  ...                    3.233184\n",
              "std          1.380741e+08  ...                    1.716211\n",
              "min          7.300000e+01  ...                    1.000000\n",
              "25%          1.254152e+05  ...                    2.000000\n",
              "50%          1.033947e+06  ...                    3.000000\n",
              "75%          6.774112e+06  ...                    4.000000\n",
              "max          1.943323e+09  ...                    9.000000\n",
              "\n",
              "[8 rows x 7 columns]"
            ]
          },
          "metadata": {},
          "execution_count": 21
        }
      ]
    },
    {
      "cell_type": "markdown",
      "metadata": {
        "id": "lyXjVFGE_2ID"
      },
      "source": [
        "## Data Preprocessing\n",
        "Ada beberapa tahap yang saya lakukan:\n",
        "\n",
        "- Data Cleaning\n",
        "- Data Selection\n",
        "- Data Integration"
      ]
    },
    {
      "cell_type": "markdown",
      "metadata": {
        "id": "cVG2RFZfANCc"
      },
      "source": [
        "## Data Cleaning\n",
        "\n",
        "Pada tahap data cleaning ada 2 tahap yang saya lakukan, yaitu:\n",
        "- Menghilangkan data duplikat\n",
        "- Menghilangkan data NaN atau Null"
      ]
    },
    {
      "cell_type": "markdown",
      "metadata": {
        "id": "QZ14ubGeAVqG"
      },
      "source": [
        "### Menghilangkan Data Duplikat"
      ]
    },
    {
      "cell_type": "code",
      "metadata": {
        "id": "7QPYy-vqAZX7",
        "colab": {
          "base_uri": "https://localhost:8080/"
        },
        "outputId": "1db32beb-8005-4fa2-d2db-f6ed000fdc98"
      },
      "source": [
        "duplicate_rows = dataFrame[dataFrame.duplicated()]\n",
        "print(\"Data duplikat (Baris, Kolom):\", duplicate_rows.shape)"
      ],
      "execution_count": null,
      "outputs": [
        {
          "output_type": "stream",
          "name": "stdout",
          "text": [
            "Data duplikat (Baris, Kolom): (0, 14)\n"
          ]
        }
      ]
    },
    {
      "cell_type": "markdown",
      "metadata": {
        "id": "hTJ0pwQpAd_s"
      },
      "source": [
        "Karena data duplikat pada baris tidak ditemukan berarti proses ini sudah selesai."
      ]
    },
    {
      "cell_type": "markdown",
      "metadata": {
        "id": "yID4JrpfAhRT"
      },
      "source": [
        "### Menghilangkan Data NaN atau Null"
      ]
    },
    {
      "cell_type": "code",
      "metadata": {
        "id": "j7uHCfekAk82",
        "colab": {
          "base_uri": "https://localhost:8080/"
        },
        "outputId": "39fc1e86-3b12-4168-f95d-aeb81059873f"
      },
      "source": [
        "dataFrame.isnull().sum() # Mencari jumlah data yang NaN atau Null pada setiap fitur sebelum data dibersihkan."
      ],
      "execution_count": null,
      "outputs": [
        {
          "output_type": "execute_result",
          "data": {
            "text/plain": [
              "COUNTRY                                  0\n",
              "ISO3                                     0\n",
              "WHO_REGION                               0\n",
              "DATA_SOURCE                              0\n",
              "DATE_UPDATED                             0\n",
              "TOTAL_VACCINATIONS                       1\n",
              "PERSONS_VACCINATED_1PLUS_DOSE            8\n",
              "TOTAL_VACCINATIONS_PER100                1\n",
              "PERSONS_VACCINATED_1PLUS_DOSE_PER100     8\n",
              "PERSONS_FULLY_VACCINATED                 8\n",
              "PERSONS_FULLY_VACCINATED_PER100          8\n",
              "VACCINES_USED                            4\n",
              "FIRST_VACCINE_DATE                      71\n",
              "NUMBER_VACCINES_TYPES_USED               4\n",
              "dtype: int64"
            ]
          },
          "metadata": {},
          "execution_count": 23
        }
      ]
    },
    {
      "cell_type": "code",
      "metadata": {
        "id": "IFG3_A_TAol1",
        "colab": {
          "base_uri": "https://localhost:8080/"
        },
        "outputId": "8946ba0d-1d57-4dc2-ae5a-ad7ac7961dd4"
      },
      "source": [
        "dataFrame.count() # Total data setiap fitur sebelum data dibersihkan."
      ],
      "execution_count": null,
      "outputs": [
        {
          "output_type": "execute_result",
          "data": {
            "text/plain": [
              "COUNTRY                                 227\n",
              "ISO3                                    227\n",
              "WHO_REGION                              227\n",
              "DATA_SOURCE                             227\n",
              "DATE_UPDATED                            227\n",
              "TOTAL_VACCINATIONS                      226\n",
              "PERSONS_VACCINATED_1PLUS_DOSE           219\n",
              "TOTAL_VACCINATIONS_PER100               226\n",
              "PERSONS_VACCINATED_1PLUS_DOSE_PER100    219\n",
              "PERSONS_FULLY_VACCINATED                219\n",
              "PERSONS_FULLY_VACCINATED_PER100         219\n",
              "VACCINES_USED                           223\n",
              "FIRST_VACCINE_DATE                      156\n",
              "NUMBER_VACCINES_TYPES_USED              223\n",
              "dtype: int64"
            ]
          },
          "metadata": {},
          "execution_count": 24
        }
      ]
    },
    {
      "cell_type": "code",
      "metadata": {
        "id": "Lod1ma42A6U8"
      },
      "source": [
        "dataFrame = dataFrame.dropna() # Menghilangkan data NaN atau Null"
      ],
      "execution_count": null,
      "outputs": []
    },
    {
      "cell_type": "code",
      "metadata": {
        "id": "lraFNZEvA_Cl",
        "colab": {
          "base_uri": "https://localhost:8080/"
        },
        "outputId": "c196b0db-f85f-4fb2-8e78-48b500f52027"
      },
      "source": [
        "dataFrame.isnull().sum() # Menampilkan total data yang NaN atau Null setelah data dibersihkan"
      ],
      "execution_count": null,
      "outputs": [
        {
          "output_type": "execute_result",
          "data": {
            "text/plain": [
              "COUNTRY                                 0\n",
              "ISO3                                    0\n",
              "WHO_REGION                              0\n",
              "DATA_SOURCE                             0\n",
              "DATE_UPDATED                            0\n",
              "TOTAL_VACCINATIONS                      0\n",
              "PERSONS_VACCINATED_1PLUS_DOSE           0\n",
              "TOTAL_VACCINATIONS_PER100               0\n",
              "PERSONS_VACCINATED_1PLUS_DOSE_PER100    0\n",
              "PERSONS_FULLY_VACCINATED                0\n",
              "PERSONS_FULLY_VACCINATED_PER100         0\n",
              "VACCINES_USED                           0\n",
              "FIRST_VACCINE_DATE                      0\n",
              "NUMBER_VACCINES_TYPES_USED              0\n",
              "dtype: int64"
            ]
          },
          "metadata": {},
          "execution_count": 26
        }
      ]
    },
    {
      "cell_type": "code",
      "metadata": {
        "id": "eklrMyuaBCgn",
        "colab": {
          "base_uri": "https://localhost:8080/"
        },
        "outputId": "3c2a8279-85fc-4a83-8f38-7d9ce066230e"
      },
      "source": [
        "dataFrame.count() # Total data setiap fitur setelah data dibersihkan."
      ],
      "execution_count": null,
      "outputs": [
        {
          "output_type": "execute_result",
          "data": {
            "text/plain": [
              "COUNTRY                                 150\n",
              "ISO3                                    150\n",
              "WHO_REGION                              150\n",
              "DATA_SOURCE                             150\n",
              "DATE_UPDATED                            150\n",
              "TOTAL_VACCINATIONS                      150\n",
              "PERSONS_VACCINATED_1PLUS_DOSE           150\n",
              "TOTAL_VACCINATIONS_PER100               150\n",
              "PERSONS_VACCINATED_1PLUS_DOSE_PER100    150\n",
              "PERSONS_FULLY_VACCINATED                150\n",
              "PERSONS_FULLY_VACCINATED_PER100         150\n",
              "VACCINES_USED                           150\n",
              "FIRST_VACCINE_DATE                      150\n",
              "NUMBER_VACCINES_TYPES_USED              150\n",
              "dtype: int64"
            ]
          },
          "metadata": {},
          "execution_count": 27
        }
      ]
    },
    {
      "cell_type": "markdown",
      "metadata": {
        "id": "-9hvD7nsBJtf"
      },
      "source": [
        "## Data Selection\n",
        "\n",
        "Pada tahap data selection saya melakukan drop fitur yang tidak relevan."
      ]
    },
    {
      "cell_type": "code",
      "metadata": {
        "id": "Hpk6FqnkBU2G"
      },
      "source": [
        "dataFrame = dataFrame.drop(columns = {\"FIRST_VACCINE_DATE\"}, axis = 1) # Menghilangkan fitur yang tidak relevan."
      ],
      "execution_count": null,
      "outputs": []
    },
    {
      "cell_type": "code",
      "metadata": {
        "id": "aNVJegYJCcxN",
        "colab": {
          "base_uri": "https://localhost:8080/"
        },
        "outputId": "434b5cc6-20c6-407c-ceed-87eb67d26067"
      },
      "source": [
        "dataFrame.shape # Menampilkan sisa fitur yang akan dipakai."
      ],
      "execution_count": null,
      "outputs": [
        {
          "output_type": "execute_result",
          "data": {
            "text/plain": [
              "(150, 13)"
            ]
          },
          "metadata": {},
          "execution_count": 29
        }
      ]
    },
    {
      "cell_type": "code",
      "metadata": {
        "id": "80tzHK5DCwpN",
        "colab": {
          "base_uri": "https://localhost:8080/",
          "height": 417
        },
        "outputId": "87477099-8b0a-42fd-c939-6bb65a7c41f9"
      },
      "source": [
        "dataFrame.head(5) # Menampilkan data terbaru "
      ],
      "execution_count": null,
      "outputs": [
        {
          "output_type": "execute_result",
          "data": {
            "text/html": [
              "<div>\n",
              "<style scoped>\n",
              "    .dataframe tbody tr th:only-of-type {\n",
              "        vertical-align: middle;\n",
              "    }\n",
              "\n",
              "    .dataframe tbody tr th {\n",
              "        vertical-align: top;\n",
              "    }\n",
              "\n",
              "    .dataframe thead th {\n",
              "        text-align: right;\n",
              "    }\n",
              "</style>\n",
              "<table border=\"1\" class=\"dataframe\">\n",
              "  <thead>\n",
              "    <tr style=\"text-align: right;\">\n",
              "      <th></th>\n",
              "      <th>COUNTRY</th>\n",
              "      <th>ISO3</th>\n",
              "      <th>WHO_REGION</th>\n",
              "      <th>DATA_SOURCE</th>\n",
              "      <th>DATE_UPDATED</th>\n",
              "      <th>TOTAL_VACCINATIONS</th>\n",
              "      <th>PERSONS_VACCINATED_1PLUS_DOSE</th>\n",
              "      <th>TOTAL_VACCINATIONS_PER100</th>\n",
              "      <th>PERSONS_VACCINATED_1PLUS_DOSE_PER100</th>\n",
              "      <th>PERSONS_FULLY_VACCINATED</th>\n",
              "      <th>PERSONS_FULLY_VACCINATED_PER100</th>\n",
              "      <th>VACCINES_USED</th>\n",
              "      <th>NUMBER_VACCINES_TYPES_USED</th>\n",
              "    </tr>\n",
              "  </thead>\n",
              "  <tbody>\n",
              "    <tr>\n",
              "      <th>0</th>\n",
              "      <td>Afghanistan</td>\n",
              "      <td>AFG</td>\n",
              "      <td>EMRO</td>\n",
              "      <td>REPORTING</td>\n",
              "      <td>2021-08-20</td>\n",
              "      <td>1201286.0</td>\n",
              "      <td>770542.0</td>\n",
              "      <td>3.086</td>\n",
              "      <td>1.979</td>\n",
              "      <td>430744.0</td>\n",
              "      <td>1.107</td>\n",
              "      <td>Beijing CNBG - BBIBP-CorV,Janssen - Ad26.COV 2...</td>\n",
              "      <td>4.0</td>\n",
              "    </tr>\n",
              "    <tr>\n",
              "      <th>2</th>\n",
              "      <td>Algeria</td>\n",
              "      <td>DZA</td>\n",
              "      <td>AFRO</td>\n",
              "      <td>REPORTING</td>\n",
              "      <td>2021-08-23</td>\n",
              "      <td>4146091.0</td>\n",
              "      <td>3421279.0</td>\n",
              "      <td>9.455</td>\n",
              "      <td>7.802</td>\n",
              "      <td>724812.0</td>\n",
              "      <td>1.653</td>\n",
              "      <td>Beijing CNBG - BBIBP-CorV,Gamaleya - Sputnik V...</td>\n",
              "      <td>3.0</td>\n",
              "    </tr>\n",
              "    <tr>\n",
              "      <th>3</th>\n",
              "      <td>American Samoa</td>\n",
              "      <td>ASM</td>\n",
              "      <td>WPRO</td>\n",
              "      <td>REPORTING</td>\n",
              "      <td>2021-08-20</td>\n",
              "      <td>54425.0</td>\n",
              "      <td>29993.0</td>\n",
              "      <td>98.601</td>\n",
              "      <td>54.338</td>\n",
              "      <td>24977.0</td>\n",
              "      <td>45.251</td>\n",
              "      <td>Janssen - Ad26.COV 2.5,Moderna - mRNA-1273,Pfi...</td>\n",
              "      <td>3.0</td>\n",
              "    </tr>\n",
              "    <tr>\n",
              "      <th>5</th>\n",
              "      <td>Angola</td>\n",
              "      <td>AGO</td>\n",
              "      <td>AFRO</td>\n",
              "      <td>REPORTING</td>\n",
              "      <td>2021-08-23</td>\n",
              "      <td>1869933.0</td>\n",
              "      <td>1025212.0</td>\n",
              "      <td>5.690</td>\n",
              "      <td>3.119</td>\n",
              "      <td>844721.0</td>\n",
              "      <td>2.570</td>\n",
              "      <td>SII - Covishield</td>\n",
              "      <td>1.0</td>\n",
              "    </tr>\n",
              "    <tr>\n",
              "      <th>6</th>\n",
              "      <td>Anguilla</td>\n",
              "      <td>AIA</td>\n",
              "      <td>AMRO</td>\n",
              "      <td>REPORTING</td>\n",
              "      <td>2021-08-27</td>\n",
              "      <td>18458.0</td>\n",
              "      <td>9493.0</td>\n",
              "      <td>123.037</td>\n",
              "      <td>63.278</td>\n",
              "      <td>8965.0</td>\n",
              "      <td>59.759</td>\n",
              "      <td>AstraZeneca - Vaxzevria</td>\n",
              "      <td>1.0</td>\n",
              "    </tr>\n",
              "  </tbody>\n",
              "</table>\n",
              "</div>"
            ],
            "text/plain": [
              "          COUNTRY  ... NUMBER_VACCINES_TYPES_USED\n",
              "0     Afghanistan  ...                        4.0\n",
              "2         Algeria  ...                        3.0\n",
              "3  American Samoa  ...                        3.0\n",
              "5          Angola  ...                        1.0\n",
              "6        Anguilla  ...                        1.0\n",
              "\n",
              "[5 rows x 13 columns]"
            ]
          },
          "metadata": {},
          "execution_count": 30
        }
      ]
    },
    {
      "cell_type": "markdown",
      "metadata": {
        "id": "H3gLL1uTDBLE"
      },
      "source": [
        "## Data Integration\n",
        "\n",
        "Pada tahap ini saya melakukan rename fitur untuk memudahkan pembacaan."
      ]
    },
    {
      "cell_type": "code",
      "metadata": {
        "colab": {
          "base_uri": "https://localhost:8080/",
          "height": 417
        },
        "id": "tfp3533fDF-o",
        "outputId": "023c61d3-2975-4836-fc06-6585dbd2b82e"
      },
      "source": [
        "# Rename fitur\n",
        "dataFrame_initial = dataFrame.rename(columns = {\n",
        "    \"NUMBER_VACCINES_TYPES_USED\": \"VACCINES_CODES\",\n",
        "   \n",
        "})\n",
        "\n",
        "dataFrame_initial.head(5)"
      ],
      "execution_count": null,
      "outputs": [
        {
          "output_type": "execute_result",
          "data": {
            "text/html": [
              "<div>\n",
              "<style scoped>\n",
              "    .dataframe tbody tr th:only-of-type {\n",
              "        vertical-align: middle;\n",
              "    }\n",
              "\n",
              "    .dataframe tbody tr th {\n",
              "        vertical-align: top;\n",
              "    }\n",
              "\n",
              "    .dataframe thead th {\n",
              "        text-align: right;\n",
              "    }\n",
              "</style>\n",
              "<table border=\"1\" class=\"dataframe\">\n",
              "  <thead>\n",
              "    <tr style=\"text-align: right;\">\n",
              "      <th></th>\n",
              "      <th>COUNTRY</th>\n",
              "      <th>ISO3</th>\n",
              "      <th>WHO_REGION</th>\n",
              "      <th>DATA_SOURCE</th>\n",
              "      <th>DATE_UPDATED</th>\n",
              "      <th>TOTAL_VACCINATIONS</th>\n",
              "      <th>PERSONS_VACCINATED_1PLUS_DOSE</th>\n",
              "      <th>TOTAL_VACCINATIONS_PER100</th>\n",
              "      <th>PERSONS_VACCINATED_1PLUS_DOSE_PER100</th>\n",
              "      <th>PERSONS_FULLY_VACCINATED</th>\n",
              "      <th>PERSONS_FULLY_VACCINATED_PER100</th>\n",
              "      <th>VACCINES_USED</th>\n",
              "      <th>VACCINES_CODES</th>\n",
              "    </tr>\n",
              "  </thead>\n",
              "  <tbody>\n",
              "    <tr>\n",
              "      <th>0</th>\n",
              "      <td>Afghanistan</td>\n",
              "      <td>AFG</td>\n",
              "      <td>EMRO</td>\n",
              "      <td>REPORTING</td>\n",
              "      <td>2021-08-20</td>\n",
              "      <td>1201286.0</td>\n",
              "      <td>770542.0</td>\n",
              "      <td>3.086</td>\n",
              "      <td>1.979</td>\n",
              "      <td>430744.0</td>\n",
              "      <td>1.107</td>\n",
              "      <td>Beijing CNBG - BBIBP-CorV,Janssen - Ad26.COV 2...</td>\n",
              "      <td>4.0</td>\n",
              "    </tr>\n",
              "    <tr>\n",
              "      <th>2</th>\n",
              "      <td>Algeria</td>\n",
              "      <td>DZA</td>\n",
              "      <td>AFRO</td>\n",
              "      <td>REPORTING</td>\n",
              "      <td>2021-08-23</td>\n",
              "      <td>4146091.0</td>\n",
              "      <td>3421279.0</td>\n",
              "      <td>9.455</td>\n",
              "      <td>7.802</td>\n",
              "      <td>724812.0</td>\n",
              "      <td>1.653</td>\n",
              "      <td>Beijing CNBG - BBIBP-CorV,Gamaleya - Sputnik V...</td>\n",
              "      <td>3.0</td>\n",
              "    </tr>\n",
              "    <tr>\n",
              "      <th>3</th>\n",
              "      <td>American Samoa</td>\n",
              "      <td>ASM</td>\n",
              "      <td>WPRO</td>\n",
              "      <td>REPORTING</td>\n",
              "      <td>2021-08-20</td>\n",
              "      <td>54425.0</td>\n",
              "      <td>29993.0</td>\n",
              "      <td>98.601</td>\n",
              "      <td>54.338</td>\n",
              "      <td>24977.0</td>\n",
              "      <td>45.251</td>\n",
              "      <td>Janssen - Ad26.COV 2.5,Moderna - mRNA-1273,Pfi...</td>\n",
              "      <td>3.0</td>\n",
              "    </tr>\n",
              "    <tr>\n",
              "      <th>5</th>\n",
              "      <td>Angola</td>\n",
              "      <td>AGO</td>\n",
              "      <td>AFRO</td>\n",
              "      <td>REPORTING</td>\n",
              "      <td>2021-08-23</td>\n",
              "      <td>1869933.0</td>\n",
              "      <td>1025212.0</td>\n",
              "      <td>5.690</td>\n",
              "      <td>3.119</td>\n",
              "      <td>844721.0</td>\n",
              "      <td>2.570</td>\n",
              "      <td>SII - Covishield</td>\n",
              "      <td>1.0</td>\n",
              "    </tr>\n",
              "    <tr>\n",
              "      <th>6</th>\n",
              "      <td>Anguilla</td>\n",
              "      <td>AIA</td>\n",
              "      <td>AMRO</td>\n",
              "      <td>REPORTING</td>\n",
              "      <td>2021-08-27</td>\n",
              "      <td>18458.0</td>\n",
              "      <td>9493.0</td>\n",
              "      <td>123.037</td>\n",
              "      <td>63.278</td>\n",
              "      <td>8965.0</td>\n",
              "      <td>59.759</td>\n",
              "      <td>AstraZeneca - Vaxzevria</td>\n",
              "      <td>1.0</td>\n",
              "    </tr>\n",
              "  </tbody>\n",
              "</table>\n",
              "</div>"
            ],
            "text/plain": [
              "          COUNTRY  ... VACCINES_CODES\n",
              "0     Afghanistan  ...            4.0\n",
              "2         Algeria  ...            3.0\n",
              "3  American Samoa  ...            3.0\n",
              "5          Angola  ...            1.0\n",
              "6        Anguilla  ...            1.0\n",
              "\n",
              "[5 rows x 13 columns]"
            ]
          },
          "metadata": {},
          "execution_count": 33
        }
      ]
    },
    {
      "cell_type": "markdown",
      "metadata": {
        "id": "i_HTHjMiYEDa"
      },
      "source": [
        "# Data Visualization\n",
        "\n",
        "Pada tahap ini adalah tahap peng-visualisasian data, dimana data yang akan divisualisasikan berupa beberapa plot yaitu:\n",
        "- Line Plot\n",
        "- Bar Plot\n",
        "- Pie Plot\n",
        "- Box Plot"
      ]
    },
    {
      "cell_type": "code",
      "metadata": {
        "id": "j7RIHX1CYA4l"
      },
      "source": [
        "# Define Function\n",
        "\n",
        "def show_values_on_bars(axs, h_v=\"v\", space=0.4):\n",
        "    def _show_on_single_plot(ax):\n",
        "        if h_v == \"v\":\n",
        "            for p in ax.patches:\n",
        "                _x = p.get_x() + p.get_width() / 2\n",
        "                _y = p.get_y() + p.get_height()\n",
        "                value = int(p.get_height())\n",
        "                ax.text(_x, _y, value, ha=\"center\") \n",
        "        elif h_v == \"h\":\n",
        "            for p in ax.patches:\n",
        "                _x = p.get_x() + p.get_width() + float(space)\n",
        "                _y = p.get_y() + p.get_height()\n",
        "                value = int(p.get_width())\n",
        "                ax.text(_x, _y, value, ha=\"left\")\n",
        "\n",
        "    if isinstance(axs, np.ndarray):\n",
        "        for idx, ax in np.ndenumerate(axs):\n",
        "            _show_on_single_plot(ax)\n",
        "    else:\n",
        "        _show_on_single_plot(axs)"
      ],
      "execution_count": null,
      "outputs": []
    },
    {
      "cell_type": "markdown",
      "metadata": {
        "id": "I0ek-mRXYWgu"
      },
      "source": [
        "## Box Plot"
      ]
    },
    {
      "cell_type": "code",
      "metadata": {
        "id": "BpzmySvbYbYI",
        "colab": {
          "base_uri": "https://localhost:8080/",
          "height": 302
        },
        "outputId": "61817713-6c41-45ca-b777-acc784f858ff"
      },
      "source": [
        "sns.boxplot(x = dataFrame_initial['TOTAL_VACCINATIONS'])"
      ],
      "execution_count": null,
      "outputs": [
        {
          "output_type": "execute_result",
          "data": {
            "text/plain": [
              "<matplotlib.axes._subplots.AxesSubplot at 0x7f1c31881690>"
            ]
          },
          "metadata": {},
          "execution_count": 37
        },
        {
          "output_type": "display_data",
          "data": {
            "image/png": "[encoded data removed]",
            "text/plain": [
              "<Figure size 432x288 with 1 Axes>"
            ]
          },
          "metadata": {}
        }
      ]
    },
    {
      "cell_type": "code",
      "metadata": {
        "id": "4tai5FBUaeoS",
        "colab": {
          "base_uri": "https://localhost:8080/"
        },
        "outputId": "f0ed3cd5-52ed-4f1a-8f3f-0226c127f498"
      },
      "source": [
        "dataFrame_initial['TOTAL_VACCINATIONS'].describe() # Five Number Summary"
      ],
      "execution_count": null,
      "outputs": [
        {
          "output_type": "execute_result",
          "data": {
            "text/plain": [
              "count    1.500000e+02\n",
              "mean     1.507226e+07\n",
              "std      6.038638e+07\n",
              "min      7.300000e+01\n",
              "25%      1.214898e+05\n",
              "50%      6.055835e+05\n",
              "75%      4.440829e+06\n",
              "max      5.955046e+08\n",
              "Name: TOTAL_VACCINATIONS, dtype: float64"
            ]
          },
          "metadata": {},
          "execution_count": 38
        }
      ]
    },
    {
      "cell_type": "code",
      "metadata": {
        "id": "roa759t4bAZv",
        "colab": {
          "base_uri": "https://localhost:8080/"
        },
        "outputId": "c301b62e-3139-46cc-ceab-0ca548d5c62b"
      },
      "source": [
        "# Outliers Detection\n",
        "\n",
        "Q1 = dataFrame_initial['TOTAL_VACCINATIONS'].quantile(0.25)\n",
        "Q3 = dataFrame_initial['TOTAL_VACCINATIONS'].quantile(0.75)\n",
        "IQR = Q3 - Q1\n",
        "\n",
        "lower_bound = Q1 - (1.5 * IQR)\n",
        "upper_bound = Q3 + (1.5 * IQR)\n",
        "\n",
        "print(\"Batas Bawah = \", lower_bound)\n",
        "print(\"Batas Atas = \", upper_bound)\n",
        "print(\"Jadi apapun yang berada diluar\", lower_bound, \" dan\", upper_bound, \" merupakan Outlier\")"
      ],
      "execution_count": null,
      "outputs": [
        {
          "output_type": "stream",
          "name": "stdout",
          "text": [
            "Batas Bawah =  -6357519.125\n",
            "Batas Atas =  10919837.875\n",
            "Jadi apapun yang berada diluar -6357519.125  dan 10919837.875  merupakan Outlier\n"
          ]
        }
      ]
    },
    {
      "cell_type": "markdown",
      "metadata": {
        "id": "f0i5T6eXbsyv"
      },
      "source": [
        "## Bar Plot"
      ]
    },
    {
      "cell_type": "markdown",
      "metadata": {
        "id": "R_xoF3VncAEw"
      },
      "source": [
        "* Region mana yang paling banyak melakukan vaksin?"
      ]
    },
    {
      "cell_type": "code",
      "metadata": {
        "id": "Sy_El6fve3Wy",
        "colab": {
          "base_uri": "https://localhost:8080/",
          "height": 355
        },
        "outputId": "6744e431-2178-415a-e17d-830537849626"
      },
      "source": [
        "dataAge = dataFrame[\"WHO_REGION\"].unique()\n",
        "data = []\n",
        "\n",
        "for c in dataAge:\n",
        "    d = dataFrame[dataFrame[\"WHO_REGION\"] == c]\n",
        "    counts = d[\"TOTAL_VACCINATIONS_PER100\"].sum()\n",
        "    data.append([c, counts])\n",
        "    \n",
        "dt = pd.DataFrame(data, columns = [\"Country\", \"Total\"])\n",
        "\n",
        "plt.figure(figsize=(10,5))\n",
        "plt.title(\"Bar Plot Region yang sudah selesai di vaksin\")\n",
        "\n",
        "ax = sns.barplot(x=\"Country\", y=\"Total\", data=dt)\n",
        "        \n",
        "show_values_on_bars(ax, \"v\", 0.10)"
      ],
      "execution_count": null,
      "outputs": [
        {
          "output_type": "display_data",
          "data": {
            "image/png": "[encoded data removed]",
            "text/plain": [
              "<Figure size 720x360 with 1 Axes>"
            ]
          },
          "metadata": {}
        }
      ]
    },
    {
      "cell_type": "markdown",
      "metadata": {
        "id": "XVFyhhU-ggnV"
      },
      "source": [
        "Kesimpulan:\n",
        "Pada Bar Plot pertama ini dapat disimpulkan bahwa region WHO yang sudah vaksin terbanyak adalah region **AMRO**, sedangkan region yang paling sedikit di vaksin adalah region **EURO**"
      ]
    },
    {
      "cell_type": "markdown",
      "metadata": {
        "id": "GTXrMMSwhTIA"
      },
      "source": [
        "* Region mana yang paling banyak melaporkan data vaksinasinya? "
      ]
    },
    {
      "cell_type": "code",
      "metadata": {
        "id": "oMace0GAWvPv",
        "colab": {
          "base_uri": "https://localhost:8080/",
          "height": 338
        },
        "outputId": "7a7859b5-849b-4a49-d159-b611cc15ff17"
      },
      "source": [
        "dataReg = dataFrame[\"WHO_REGION\"].unique()\n",
        "data = []\n",
        "\n",
        "for c in dataReg:\n",
        "    d = dataFrame[dataFrame[\"WHO_REGION\"] == c]\n",
        "    REPORTING\t = d[\"DATA_SOURCE\"].str.count(\"REPORTING\").sum()\n",
        "    OWID = d[\"DATA_SOURCE\"].str.count(\"OWID\").sum()\n",
        "    data.append([c, REPORTING, OWID])\n",
        "\n",
        "dt = pd.DataFrame(data, columns = [\"Region\", \"Reporting\", \"OWID\"])\n",
        "dtReg = []\n",
        "dtReporting = []\n",
        "dtOwid = []\n",
        "\n",
        "for h in dt[\"Region\"]:\n",
        "    dtReg.append(h)\n",
        "\n",
        "for j in dt[\"Reporting\"]:\n",
        "    dtReporting.append(j)\n",
        "    \n",
        "for q in dt[\"OWID\"]:\n",
        "    dtOwid.append(q)\n",
        "\n",
        "dts = pd.DataFrame({'Reporting': dtReporting, 'OWID': dtOwid}, index = dtReg)\n",
        "ax = dts.plot.barh(figsize=(10,5), title=\"Bar Plot Pembanding Sumber Data Vaksinasi berdasarkan pada Region WHO \")\n",
        "        \n",
        "show_values_on_bars(ax, \"h\", 0.10)"
      ],
      "execution_count": null,
      "outputs": [
        {
          "output_type": "display_data",
          "data": {
            "image/png": "[encoded data removed]",
            "text/plain": [
              "<Figure size 720x360 with 1 Axes>"
            ]
          },
          "metadata": {}
        }
      ]
    },
    {
      "cell_type": "markdown",
      "metadata": {
        "id": "yFQUVn7xbyVH"
      },
      "source": [
        "Kesimpulan : Hampir semua negara yang tergabung Region WHO melaporkan data vaksinasi, kecuali Region EURO. Data vaksinasi Region EURO didapatkan secara OWID/publik"
      ]
    },
    {
      "cell_type": "markdown",
      "metadata": {
        "id": "pjexV3vyrJIs"
      },
      "source": [
        "* Total Vaksinasi pada setiap Region WHO"
      ]
    },
    {
      "cell_type": "markdown",
      "metadata": {
        "id": "GY_zX1AfiuZn"
      },
      "source": [
        "\n",
        "Saya mengambil data dari 20 data teratas"
      ]
    },
    {
      "cell_type": "code",
      "metadata": {
        "id": "6z8Zay4Mcsat",
        "colab": {
          "base_uri": "https://localhost:8080/",
          "height": 355
        },
        "outputId": "177164df-54f6-40a1-a3b6-7a3dab772ecd"
      },
      "source": [
        "data = []\n",
        "\n",
        "dataRegion = dataFrame[\"WHO_REGION\"].unique()\n",
        "for c in dataRegion:\n",
        "    d = dataFrame[dataFrame[\"WHO_REGION\"] == c]\n",
        "    Sum = d[\"TOTAL_VACCINATIONS\"].sum()\n",
        "    data.append([c, Sum])\n",
        "\n",
        "data = pd.DataFrame(data, columns = [\"Region\", \"Total\"])\n",
        "get = data.head(20);\n",
        "\n",
        "plt.figure(figsize=(10,5))\n",
        "plt.title(\"Bar Plot Total Vaksinasi Diberbagai Region WHO \")\n",
        "\n",
        "ax = sns.barplot(x=\"Total\", y=\"Region\", data=get)\n",
        "        \n",
        "show_values_on_bars(ax, \"h\", 0.10)"
      ],
      "execution_count": null,
      "outputs": [
        {
          "output_type": "display_data",
          "data": {
            "image/png": "[encoded data removed]",
            "text/plain": [
              "<Figure size 720x360 with 1 Axes>"
            ]
          },
          "metadata": {}
        }
      ]
    },
    {
      "cell_type": "markdown",
      "metadata": {
        "id": "_9p4pT3liNmO"
      },
      "source": [
        "Kesimpulan : Jumlah vaksinasi terbanyak adalah Region **AMRO**, sedangkan jumlah vaksinasi paling sedikit adalah Region **AFRO**"
      ]
    },
    {
      "cell_type": "markdown",
      "metadata": {
        "id": "uT0pmJnZj1QV"
      },
      "source": [
        "## Line PLot "
      ]
    },
    {
      "cell_type": "markdown",
      "metadata": {
        "id": "DWRsVx3lnj1r"
      },
      "source": [
        "Apakah dari waktu ke waktu ada peningkatan jumlah vaksinasi? \n",
        "\n",
        "Saya mengambil data dari 5 Tanggal teratas"
      ]
    },
    {
      "cell_type": "code",
      "metadata": {
        "id": "SCmxbmLij-5z",
        "colab": {
          "base_uri": "https://localhost:8080/",
          "height": 355
        },
        "outputId": "c802cfe9-2d0a-48af-d5b3-9c5dc2e5be74"
      },
      "source": [
        "dataYear = dataFrame[\"DATE_UPDATED\"].unique()\n",
        "data = []\n",
        "\n",
        "for c in dataYear:\n",
        "    d = dataFrame[dataFrame[\"DATE_UPDATED\"] == c]\n",
        "    Sum = d[\"TOTAL_VACCINATIONS\"].sum()\n",
        "    data.append([c, Sum])\n",
        "\n",
        "data = pd.DataFrame(data, columns = [\"Tanggal\", \"Total\"])\n",
        "get = data.head(5);\n",
        "\n",
        "plt.figure(figsize=(10,5))\n",
        "plt.title(\"Grafik Peningkatan/Penurunan Jumlah Vaksinasi\")\n",
        "ax = sns.lineplot(x=\"Tanggal\", y=\"Total\", data=get)"
      ],
      "execution_count": null,
      "outputs": [
        {
          "output_type": "display_data",
          "data": {
            "image/png": "[encoded data removed]",
            "text/plain": [
              "<Figure size 720x360 with 1 Axes>"
            ]
          },
          "metadata": {}
        }
      ]
    },
    {
      "cell_type": "markdown",
      "metadata": {
        "id": "hvxVAJ5Zn0Pn"
      },
      "source": [
        "Kesimpulan : Total Vaksinasi tertinggi pada tanggal 27 Agustus 2021. Tanggal Update pada data Vaccination ini tidak tersusun secara berurutan, sehingga grafik diatas pun tidak menggambarkan data secara berurutan"
      ]
    },
    {
      "cell_type": "markdown",
      "metadata": {
        "id": "2adQsh0YoiIo"
      },
      "source": [
        "## Pie Plot "
      ]
    },
    {
      "cell_type": "markdown",
      "metadata": {
        "id": "qulYueKepb7P"
      },
      "source": [
        "Region manakah yang paling banyak melakukan vaksin? "
      ]
    },
    {
      "cell_type": "code",
      "metadata": {
        "id": "dBls9G3somtE",
        "colab": {
          "base_uri": "https://localhost:8080/",
          "height": 476
        },
        "outputId": "49231546-9b64-4d30-c75a-6abcaf1e38c4"
      },
      "source": [
        "dataRegion = dataFrame[\"WHO_REGION\"].unique()\n",
        "data = [];\n",
        "\n",
        "for s in dataRegion:\n",
        "    tot = dataFrame[\"WHO_REGION\"].str.count(s).sum()\n",
        "    data.append([s, tot])\n",
        "\n",
        "data = pd.DataFrame(data, columns = [\"Region\", \"Total\"])\n",
        "\n",
        "value = data[\"Total\"]\n",
        "labels = data[\"Region\"]\n",
        "plt.pie(value, labels = labels, autopct = \"%1.1f%%\", radius=2, startangle=90)\n",
        "plt.axes().set_aspect(\"equal\")\n",
        "plt.show()"
      ],
      "execution_count": null,
      "outputs": [
        {
          "output_type": "stream",
          "name": "stderr",
          "text": [
            "/usr/local/lib/python3.7/dist-packages/ipykernel_launcher.py:13: MatplotlibDeprecationWarning: Adding an axes using the same arguments as a previous axes currently reuses the earlier instance.  In a future version, a new instance will always be created and returned.  Meanwhile, this warning can be suppressed, and the future behavior ensured, by passing a unique label to each axes instance.\n",
            "  del sys.path[0]\n"
          ]
        },
        {
          "output_type": "display_data",
          "data": {
            "image/png": "[encoded data removed]",
            "text/plain": [
              "<Figure size 432x288 with 1 Axes>"
            ]
          },
          "metadata": {}
        }
      ]
    },
    {
      "cell_type": "markdown",
      "metadata": {
        "id": "cDsksGfLpoe_"
      },
      "source": [
        "Kesimpulan : Dari Pie Plot diatas maka dapat disimpulkan bahwa negara yang tergabung dalam Region AMRO (29,3%) dan Region AFRO (28,7%) paling banyak melakukan vaksinasi, dua Region ini hanya selisih 0,6%. "
      ]
    }
  ]
}